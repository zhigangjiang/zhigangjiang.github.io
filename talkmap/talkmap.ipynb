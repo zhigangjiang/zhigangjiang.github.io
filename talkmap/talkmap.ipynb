{
 "cells": [
  {
   "cell_type": "markdown",
   "metadata": {},
   "source": [
    "# Leaflet cluster map of talk locations\n",
    "\n",
    "Run this from the _talks/ directory, which contains .md files of all your talks. This scrapes the location YAML field from each .md file, geolocates it with geopy/Nominatim, and uses the getorg library to output data, HTML, and Javascript for a standalone cluster map."
   ]
  },
  {
   "cell_type": "code",
   "execution_count": 1,
   "metadata": {
    "collapsed": false
   },
   "outputs": [
    {
     "name": "stdout",
     "output_type": "stream",
     "text": [
      "Looking in indexes: https://mirrors.bfsu.edu.cn/pypi/web/simple\n",
      "Requirement already satisfied: getorg in /Users/bert/anaconda3/lib/python3.7/site-packages (0.3.1)\n",
      "Requirement already satisfied: pygithub in /Users/bert/anaconda3/lib/python3.7/site-packages (from getorg) (1.54.1)\n",
      "Requirement already satisfied: geopy in /Users/bert/anaconda3/lib/python3.7/site-packages (from getorg) (2.1.0)\n",
      "Requirement already satisfied: retrying in /Users/bert/anaconda3/lib/python3.7/site-packages (from getorg) (1.3.3)\n",
      "Requirement already satisfied: geographiclib<2,>=1.49 in /Users/bert/anaconda3/lib/python3.7/site-packages (from geopy->getorg) (1.50)\n",
      "Requirement already satisfied: requests>=2.14.0 in /Users/bert/anaconda3/lib/python3.7/site-packages (from pygithub->getorg) (2.27.1)\n",
      "Requirement already satisfied: deprecated in /Users/bert/anaconda3/lib/python3.7/site-packages (from pygithub->getorg) (1.2.12)\n",
      "Requirement already satisfied: pyjwt<2.0 in /Users/bert/anaconda3/lib/python3.7/site-packages (from pygithub->getorg) (1.7.1)\n",
      "Requirement already satisfied: six>=1.7.0 in /Users/bert/anaconda3/lib/python3.7/site-packages (from retrying->getorg) (1.16.0)\n",
      "Requirement already satisfied: certifi>=2017.4.17 in /Users/bert/anaconda3/lib/python3.7/site-packages (from requests>=2.14.0->pygithub->getorg) (2022.6.15)\n",
      "Requirement already satisfied: urllib3<1.27,>=1.21.1 in /Users/bert/anaconda3/lib/python3.7/site-packages (from requests>=2.14.0->pygithub->getorg) (1.26.8)\n",
      "Requirement already satisfied: idna<4,>=2.5 in /Users/bert/anaconda3/lib/python3.7/site-packages (from requests>=2.14.0->pygithub->getorg) (3.3)\n",
      "Requirement already satisfied: charset-normalizer~=2.0.0 in /Users/bert/anaconda3/lib/python3.7/site-packages (from requests>=2.14.0->pygithub->getorg) (2.0.4)\n",
      "Collecting wrapt<2,>=1.10\n",
      "  Downloading https://mirrors.bfsu.edu.cn/pypi/web/packages/94/59/60b2fe919ffb190cf8cae0307bafdaf1695eac8655921f59768ce3bf1084/wrapt-1.14.1-cp37-cp37m-macosx_10_9_x86_64.whl (34 kB)\n",
      "Installing collected packages: wrapt\n",
      "Successfully installed wrapt-1.14.1\n",
      "Iywidgets and ipyleaflet support disabled. You must be in a Jupyter notebook to use this feature.\n",
      "Error raised:\n",
      "No module named 'ipyleaflet'\n",
      "Check that you have enabled ipyleaflet in Jupyter with:\n",
      "    jupyter nbextension enable --py ipyleaflet\n"
     ]
    }
   ],
   "source": [
    "!pip install getorg --upgrade\n",
    "import getorg\n",
    "from geopy import Nominatim"
   ]
  },
  {
   "cell_type": "code",
   "execution_count": 2,
   "metadata": {
    "collapsed": true
   },
   "outputs": [],
   "source": [
    "geocoder = Nominatim(user_agent=\"http\")\n",
    "location_dict = {}"
   ]
  },
  {
   "cell_type": "code",
   "execution_count": 3,
   "metadata": {},
   "outputs": [],
   "source": [
    "locations = [\n",
    "    \"Tianjin, China\", \n",
    "    \"Hangzhou, China\", \n",
    "    \"Xi'an, China\", \n",
    "    \"Hefei, China\"\n",
    "]"
   ]
  },
  {
   "cell_type": "code",
   "execution_count": 4,
   "metadata": {
    "collapsed": false,
    "tags": []
   },
   "outputs": [
    {
     "name": "stdout",
     "output_type": "stream",
     "text": [
      "Tianjin, China \n",
      " 天津市, 300061, 中国\n",
      "Hangzhou, China \n",
      " 杭州市, 浙江省, 中国\n",
      "Xi'an, China \n",
      " 西安市, 陕西省, 中国\n",
      "Hefei, China \n",
      " 合肥市, 安徽省, 中国\n"
     ]
    }
   ],
   "source": [
    "for location in locations:\n",
    "    location_dict[location] = geocoder.geocode(location)\n",
    "    print(location, \"\\n\", location_dict[location])"
   ]
  },
  {
   "cell_type": "code",
   "execution_count": 5,
   "metadata": {
    "collapsed": false
   },
   "outputs": [
    {
     "data": {
      "text/plain": [
       "'Written map to ./'"
      ]
     },
     "execution_count": 5,
     "metadata": {},
     "output_type": "execute_result"
    }
   ],
   "source": [
    "m = getorg.orgmap.create_map_obj()\n",
    "getorg.orgmap.output_html_cluster_map(location_dict, folder_name=\".\", hashed_usernames=False)"
   ]
  }
 ],
 "metadata": {
  "anaconda-cloud": {},
  "interpreter": {
   "hash": "fa293f381fb705e03fef2ffda393d33fd79ad96f92fbafba96a9691013861641"
  },
  "kernelspec": {
   "display_name": "Python 3.7.3 64-bit ('base': conda)",
   "language": "python",
   "name": "python3"
  },
  "language_info": {
   "codemirror_mode": {
    "name": "ipython",
    "version": 3
   },
   "file_extension": ".py",
   "mimetype": "text/x-python",
   "name": "python",
   "nbconvert_exporter": "python",
   "pygments_lexer": "ipython3",
   "version": "3.7.3"
  }
 },
 "nbformat": 4,
 "nbformat_minor": 0
}
